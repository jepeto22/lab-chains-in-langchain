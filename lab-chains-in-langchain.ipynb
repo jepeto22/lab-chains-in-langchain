{
 "cells": [
  {
   "cell_type": "markdown",
   "id": "52824b89-532a-4e54-87e9-1410813cd39e",
   "metadata": {},
   "source": [
    "# Lab | Chains in LangChain\n",
    "\n",
    "## Outline\n",
    "\n",
    "* LLMChain\n",
    "* Sequential Chains\n",
    "  * SimpleSequentialChain\n",
    "  * SequentialChain\n",
    "* Router Chain"
   ]
  },
  {
   "cell_type": "code",
   "execution_count": 1,
   "id": "541eb2f1",
   "metadata": {},
   "outputs": [],
   "source": [
    "import warnings\n",
    "warnings.filterwarnings('ignore')"
   ]
  },
  {
   "cell_type": "code",
   "execution_count": 2,
   "id": "b7ed03ed-1322-49e3-b2a2-33e94fb592ef",
   "metadata": {
    "tags": []
   },
   "outputs": [],
   "source": [
    "import os\n",
    "\n",
    "from dotenv import load_dotenv, find_dotenv\n",
    "_ = load_dotenv(find_dotenv())\n",
    "\n",
    "OPENAI_API_KEY  = os.getenv('OPENAI_API_KEY')\n",
    "HUGGINGFACEHUB_API_TOKEN = os.getenv('HF_TOKEN')"
   ]
  },
  {
   "cell_type": "code",
   "execution_count": 3,
   "id": "b84e441b",
   "metadata": {
    "tags": []
   },
   "outputs": [],
   "source": [
    "#!pip install pandas"
   ]
  },
  {
   "cell_type": "code",
   "execution_count": 4,
   "id": "974acf8e-8f88-42de-88f8-40a82cb58e8b",
   "metadata": {
    "tags": []
   },
   "outputs": [],
   "source": [
    "import pandas as pd\n",
    "df = pd.read_csv('data/Data.csv')"
   ]
  },
  {
   "cell_type": "code",
   "execution_count": 82,
   "id": "b7a09c35",
   "metadata": {
    "tags": []
   },
   "outputs": [
    {
     "data": {
      "text/html": [
       "<div>\n",
       "<style scoped>\n",
       "    .dataframe tbody tr th:only-of-type {\n",
       "        vertical-align: middle;\n",
       "    }\n",
       "\n",
       "    .dataframe tbody tr th {\n",
       "        vertical-align: top;\n",
       "    }\n",
       "\n",
       "    .dataframe thead th {\n",
       "        text-align: right;\n",
       "    }\n",
       "</style>\n",
       "<table border=\"1\" class=\"dataframe\">\n",
       "  <thead>\n",
       "    <tr style=\"text-align: right;\">\n",
       "      <th></th>\n",
       "      <th>Product</th>\n",
       "      <th>Review</th>\n",
       "    </tr>\n",
       "  </thead>\n",
       "  <tbody>\n",
       "    <tr>\n",
       "      <th>0</th>\n",
       "      <td>Queen Size Sheet Set</td>\n",
       "      <td>I ordered a king size set. My only criticism w...</td>\n",
       "    </tr>\n",
       "    <tr>\n",
       "      <th>1</th>\n",
       "      <td>Waterproof Phone Pouch</td>\n",
       "      <td>I loved the waterproof sac, although the openi...</td>\n",
       "    </tr>\n",
       "    <tr>\n",
       "      <th>2</th>\n",
       "      <td>Luxury Air Mattress</td>\n",
       "      <td>This mattress had a small hole in the top of i...</td>\n",
       "    </tr>\n",
       "    <tr>\n",
       "      <th>3</th>\n",
       "      <td>Pillows Insert</td>\n",
       "      <td>This is the best throw pillow fillers on Amazo...</td>\n",
       "    </tr>\n",
       "    <tr>\n",
       "      <th>4</th>\n",
       "      <td>Milk Frother Handheld\\r\\n</td>\n",
       "      <td>I loved this product. But they only seem to l...</td>\n",
       "    </tr>\n",
       "    <tr>\n",
       "      <th>5</th>\n",
       "      <td>L'Or Espresso Café \\r\\n</td>\n",
       "      <td>Je trouve le goût médiocre. La mousse ne tient...</td>\n",
       "    </tr>\n",
       "    <tr>\n",
       "      <th>6</th>\n",
       "      <td>Hervidor de Agua Eléctrico</td>\n",
       "      <td>Está lu bonita calienta muy rápido, es muy fun...</td>\n",
       "    </tr>\n",
       "  </tbody>\n",
       "</table>\n",
       "</div>"
      ],
      "text/plain": [
       "                      Product  \\\n",
       "0        Queen Size Sheet Set   \n",
       "1      Waterproof Phone Pouch   \n",
       "2         Luxury Air Mattress   \n",
       "3              Pillows Insert   \n",
       "4   Milk Frother Handheld\\r\\n   \n",
       "5     L'Or Espresso Café \\r\\n   \n",
       "6  Hervidor de Agua Eléctrico   \n",
       "\n",
       "                                              Review  \n",
       "0  I ordered a king size set. My only criticism w...  \n",
       "1  I loved the waterproof sac, although the openi...  \n",
       "2  This mattress had a small hole in the top of i...  \n",
       "3  This is the best throw pillow fillers on Amazo...  \n",
       "4   I loved this product. But they only seem to l...  \n",
       "5  Je trouve le goût médiocre. La mousse ne tient...  \n",
       "6  Está lu bonita calienta muy rápido, es muy fun...  "
      ]
     },
     "execution_count": 82,
     "metadata": {},
     "output_type": "execute_result"
    }
   ],
   "source": [
    "df.head(10)"
   ]
  },
  {
   "cell_type": "markdown",
   "id": "b940ce7c",
   "metadata": {},
   "source": [
    "## LLMChain"
   ]
  },
  {
   "cell_type": "code",
   "execution_count": 6,
   "id": "427e1119",
   "metadata": {},
   "outputs": [],
   "source": [
    "#!pip install langchain_community"
   ]
  },
  {
   "cell_type": "code",
   "execution_count": 7,
   "id": "e92dff22",
   "metadata": {
    "tags": []
   },
   "outputs": [],
   "source": [
    "#!pip install langchain-openai\n",
    "\n",
    "from langchain_openai import ChatOpenAI\n",
    "from langchain.prompts import ChatPromptTemplate\n",
    "from langchain.chains import LLMChain"
   ]
  },
  {
   "cell_type": "code",
   "execution_count": 8,
   "id": "943237a7",
   "metadata": {},
   "outputs": [],
   "source": [
    "#Replace None by your own value and justify\n",
    "llm = ChatOpenAI(temperature=1)\n",
    "\n",
    "# I have selected temperature=1 to allow for more creative and varied responses."
   ]
  },
  {
   "cell_type": "code",
   "execution_count": 14,
   "id": "cdcdb42d",
   "metadata": {},
   "outputs": [],
   "source": [
    "prompt = ChatPromptTemplate.from_template(template= f\"Imagine you are an expert product reviewer in the field of bricolage. Please provide a detailed review of the following product: {product}. Include its features, pros and cons, and your overall recommendation.\"\n",
    " \n",
    ")"
   ]
  },
  {
   "cell_type": "code",
   "execution_count": 16,
   "id": "d7abc20b",
   "metadata": {},
   "outputs": [],
   "source": [
    "\n",
    "chain = LLMChain(llm=llm, prompt=prompt)"
   ]
  },
  {
   "cell_type": "code",
   "execution_count": 17,
   "id": "ad44d1fb",
   "metadata": {},
   "outputs": [
    {
     "data": {
      "text/plain": [
       "'Product: COLLAK TOT Adhesive\\n\\nFeatures:\\n- Multipurpose adhesive for various bricolage projects\\n- Strong and durable bond\\n- Quick drying formula\\n- Can be used on a variety of materials such as wood, plastic, metal, and more\\n- Easy to apply with precision nozzle\\n- Resistant to water, heat, and impact\\n\\nPros:\\n- Versatile adhesive that can be used for a wide range of projects\\n- Provides a strong and durable bond, ensuring long-lasting results\\n- Quick drying formula allows for fast and efficient work\\n- Precision nozzle makes application easy and mess-free\\n- Resistant to water, heat, and impact, making it suitable for both indoor and outdoor projects\\n\\nCons:\\n- Strong odor, may require good ventilation when using\\n- Can be difficult to remove excess adhesive if not applied carefully\\n- May not be suitable for very heavy-duty projects\\n\\nOverall recommendation:\\nThe COLLAK TOT Adhesive is a reliable and versatile product that is ideal for various bricolage projects. Its strong bond, quick drying formula, and resistance to water, heat, and impact make it a great choice for both indoor and outdoor use. While it may have a strong odor and require careful application, the benefits far outweigh the drawbacks. I highly recommend the COLLAK TOT Adhesive for anyone in need of a reliable adhesive for their DIY projects.'"
      ]
     },
     "execution_count": 17,
     "metadata": {},
     "output_type": "execute_result"
    }
   ],
   "source": [
    "product = 'COLLAK TOT Adhesive'\n",
    "chain.run({\"product\": product})"
   ]
  },
  {
   "cell_type": "markdown",
   "id": "69b03469",
   "metadata": {},
   "source": [
    "## SimpleSequentialChain"
   ]
  },
  {
   "cell_type": "code",
   "execution_count": 18,
   "id": "febee243",
   "metadata": {},
   "outputs": [],
   "source": [
    "from langchain.chains import SimpleSequentialChain"
   ]
  },
  {
   "cell_type": "code",
   "execution_count": 25,
   "id": "2f31aa8a",
   "metadata": {},
   "outputs": [],
   "source": [
    "llm = ChatOpenAI(temperature=0.9)\n",
    "\n",
    "# prompt template 1\n",
    "first_prompt = ChatPromptTemplate.from_template(\n",
    "    \"Imagine you are an expert product reviewer in the field of bricolage. Please provide a detailed review of the following product: {product}. Include its features, pros and cons, and your overall recommendation.\"\n",
    ")\n",
    "\n",
    "# Chain 1\n",
    "chain_one = LLMChain(llm=llm, prompt=first_prompt)"
   ]
  },
  {
   "cell_type": "code",
   "execution_count": 26,
   "id": "3f5d5b76",
   "metadata": {},
   "outputs": [],
   "source": [
    "\n",
    "# prompt template 2\n",
    "second_prompt = ChatPromptTemplate.from_template(\n",
    "    \"Based on the review you just provided, please summarize the key points and provide a concise recommendation for the product: {product}.\"\n",
    ")\n",
    "# chain 2\n",
    "chain_two = LLMChain(llm=llm, prompt=second_prompt)"
   ]
  },
  {
   "cell_type": "code",
   "execution_count": 27,
   "id": "6c1eb2c4",
   "metadata": {},
   "outputs": [],
   "source": [
    "overall_simple_chain = SimpleSequentialChain(chains=[chain_one, chain_two],\n",
    "                                             verbose=True\n",
    "                                            )"
   ]
  },
  {
   "cell_type": "code",
   "execution_count": 28,
   "id": "78458efe",
   "metadata": {},
   "outputs": [
    {
     "name": "stdout",
     "output_type": "stream",
     "text": [
      "\n",
      "\n",
      "\u001b[1m> Entering new SimpleSequentialChain chain...\u001b[0m\n",
      "\u001b[36;1m\u001b[1;3mProduct: COLLAK TOT Adhesive\n",
      "\n",
      "Features:\n",
      "- Strong adhesive that can bond a variety of materials, including wood, metal, plastic, and glass\n",
      "- Dries clear for a clean and professional finish\n",
      "- Fast-drying formula allows for quick and efficient application\n",
      "- Can be used for both indoor and outdoor projects\n",
      "- Water-resistant, making it suitable for use in wet environments\n",
      "\n",
      "Pros:\n",
      "- Versatile and can be used for a wide range of DIY and repair projects\n",
      "- Strong bond that holds well under pressure\n",
      "- Easy to apply with a precision tip for accurate application\n",
      "- Dries clear, leaving a seamless finish\n",
      "- Can withstand varying temperatures, making it suitable for outdoor applications\n",
      "- Water-resistant formula ensures long-lasting durability\n",
      "\n",
      "Cons:\n",
      "- Strong smell that may be off-putting to some users\n",
      "- Can be difficult to remove once fully dried\n",
      "- May require some practice to master application technique for best results\n",
      "\n",
      "Overall recommendation:\n",
      "I would highly recommend the COLLAK TOT Adhesive for anyone looking for a strong and versatile adhesive for their bricolage projects. With its strong bond, quick-drying formula, and ability to withstand varying conditions, this adhesive is a reliable choice for both indoor and outdoor applications. While it may have a strong smell and require some practice to use effectively, the benefits far outweigh these minor drawbacks. Whether you are a seasoned DIY enthusiast or a beginner looking for a reliable adhesive, the COLLAK TOT Adhesive is a great choice for all your bonding needs.\u001b[0m\n",
      "\u001b[33;1m\u001b[1;3mSummary:\n",
      "The COLLAK TOT Adhesive is a versatile and strong adhesive that can bond a variety of materials, dries clear, has a fast-drying formula, and is water-resistant. It is easy to apply and suitable for both indoor and outdoor projects. While it may have a strong smell and be difficult to remove once dried, the benefits outweigh these minor drawbacks.\n",
      "\n",
      "Recommendation:\n",
      "I highly recommend the COLLAK TOT Adhesive for anyone in need of a reliable and strong adhesive for a wide range of DIY projects. Its versatility, strong bond, and durability make it a great choice for both beginners and experienced DIY enthusiasts.\u001b[0m\n",
      "\n",
      "\u001b[1m> Finished chain.\u001b[0m\n"
     ]
    },
    {
     "data": {
      "text/plain": [
       "'Summary:\\nThe COLLAK TOT Adhesive is a versatile and strong adhesive that can bond a variety of materials, dries clear, has a fast-drying formula, and is water-resistant. It is easy to apply and suitable for both indoor and outdoor projects. While it may have a strong smell and be difficult to remove once dried, the benefits outweigh these minor drawbacks.\\n\\nRecommendation:\\nI highly recommend the COLLAK TOT Adhesive for anyone in need of a reliable and strong adhesive for a wide range of DIY projects. Its versatility, strong bond, and durability make it a great choice for both beginners and experienced DIY enthusiasts.'"
      ]
     },
     "execution_count": 28,
     "metadata": {},
     "output_type": "execute_result"
    }
   ],
   "source": [
    "overall_simple_chain.run(product)"
   ]
  },
  {
   "cell_type": "markdown",
   "id": "0dd59bda-9d02-44e7-b3d6-2bec61b99d8f",
   "metadata": {},
   "source": [
    "**Repeat the above twice for different products**"
   ]
  },
  {
   "cell_type": "code",
   "execution_count": 29,
   "id": "3f4cb518",
   "metadata": {},
   "outputs": [
    {
     "name": "stdout",
     "output_type": "stream",
     "text": [
      "\n",
      "\n",
      "\u001b[1m> Entering new SimpleSequentialChain chain...\u001b[0m\n",
      "\u001b[36;1m\u001b[1;3mAs a gamer Youtuber, I have had the opportunity to review Nintendo Switch 2 Console and provide my insight on its features, pros and cons, and overall recommendation.\n",
      "\n",
      "Features:\n",
      "1. The Nintendo Switch 2 Console comes with a larger and higher resolution 7-inch OLED screen, offering a more vibrant and immersive gaming experience.\n",
      "2. Improved battery life allows for longer gaming sessions without the need to constantly recharge.\n",
      "3. Enhanced processing power ensures smoother gameplay and faster load times.\n",
      "4. The console retains its signature versatile design, allowing players to switch between handheld, tabletop, and TV mode effortlessly.\n",
      "5. The addition of a new premium design and build quality gives the console a more luxurious feel.\n",
      "\n",
      "Pros:\n",
      "1. The upgraded OLED screen provides stunning visuals and enhances the overall gaming experience.\n",
      "2. The improved processing power results in sleeker graphics and faster performance.\n",
      "3. The versatility of the console allows gamers to play their favorite titles in various ways.\n",
      "4. The longer battery life is a welcome upgrade, especially for on-the-go gamers.\n",
      "5. The premium design and build quality make the console more durable and appealing.\n",
      "\n",
      "Cons:\n",
      "1. The console may be priced higher than its predecessor, making it less accessible to budget-conscious gamers.\n",
      "2. Limited availability of games specifically optimized for the new hardware may limit the full potential of the console.\n",
      "3. Some players may find the larger screen size less portable compared to the original Nintendo Switch.\n",
      "\n",
      "Overall Recommendation:\n",
      "The Nintendo Switch 2 Console is a fantastic upgrade for fans of the original console who are looking for a more immersive and powerful gaming experience. The improved features and enhanced design make it a worthwhile investment for gamers who want cutting-edge technology and high-quality gaming on the go. However, the higher price point and limited game compatibility may deter some prospective buyers. Ultimately, if you are a dedicated Nintendo fan or a gamer who values top-tier performance, the Nintendo Switch 2 Console is definitely worth considering.\u001b[0m\n",
      "\u001b[33;1m\u001b[1;3mOverall, the Nintendo Switch 2 Console offers a significant upgrade with its larger OLED screen, improved processing power, longer battery life, and premium design. It provides a more immersive gaming experience and retains the versatility of the original Switch. However, the higher price and limited game compatibility may be drawbacks for some gamers. If you prioritize top-tier performance and cutting-edge technology, the Nintendo Switch 2 Console is a worthy investment.\u001b[0m\n",
      "\n",
      "\u001b[1m> Finished chain.\u001b[0m\n"
     ]
    },
    {
     "data": {
      "text/plain": [
       "'Overall, the Nintendo Switch 2 Console offers a significant upgrade with its larger OLED screen, improved processing power, longer battery life, and premium design. It provides a more immersive gaming experience and retains the versatility of the original Switch. However, the higher price and limited game compatibility may be drawbacks for some gamers. If you prioritize top-tier performance and cutting-edge technology, the Nintendo Switch 2 Console is a worthy investment.'"
      ]
     },
     "execution_count": 29,
     "metadata": {},
     "output_type": "execute_result"
    }
   ],
   "source": [
    "product = 'Nintendo Switch 2 Console'\n",
    "\n",
    "llm = ChatOpenAI(temperature=1.2)\n",
    "\n",
    "# prompt template 1\n",
    "first_prompt = ChatPromptTemplate.from_template(\n",
    "    \"Imagine you are a gamer youtuber. Please provide a detailed review of the following product: {product}. Include its features, pros and cons, and your overall recommendation.\"\n",
    ")\n",
    "\n",
    "# Chain 1\n",
    "chain_one = LLMChain(llm=llm, prompt=first_prompt)\n",
    "\n",
    "\n",
    "# prompt template 2\n",
    "second_prompt = ChatPromptTemplate.from_template(\n",
    "    \"Based on the review you just provided, please summarize the key points and provide a concise recommendation for the product: {product}.\"\n",
    ")\n",
    "# chain 2\n",
    "chain_two = LLMChain(llm=llm, prompt=second_prompt)\n",
    "\n",
    "overall_simple_chain = SimpleSequentialChain(chains=[chain_one, chain_two],\n",
    "                                             verbose=True\n",
    "                                            )\n",
    "\n",
    "overall_simple_chain.run(product)"
   ]
  },
  {
   "cell_type": "code",
   "execution_count": 30,
   "id": "d4e8c332",
   "metadata": {},
   "outputs": [
    {
     "name": "stdout",
     "output_type": "stream",
     "text": [
      "\n",
      "\n",
      "\u001b[1m> Entering new SimpleSequentialChain chain...\u001b[0m\n",
      "\u001b[36;1m\u001b[1;3mFor an Original Man outfit at a Keinemusik Festival, I would recommend going for a stylish and edgy look that showcases your individuality.\n",
      "\n",
      "First, start with a bold graphic tee or tank top featuring a cool design or band logo. Pair it with distressed denim shorts or jeans for a laid-back yet stylish vibe. Add a statement belt and accessorize with some chunky bracelets or a funky hat to really stand out.\n",
      "\n",
      "For footwear, opt for some trendy sneakers or boots that are comfortable for dancing in all day. Don't forget to bring a trendy jacket or flannel for when the temperature drops later in the evening.\n",
      "\n",
      "Here are a few clothing options that you can find in Spain:\n",
      "\n",
      "1. Graphic Tee - Pull&Bear (https://www.pullandbear.com/)\n",
      "2. Distressed Denim Shorts - Zara (https://www.zara.com/)\n",
      "3. Statement Belt - Stradivarius (https://www.stradivarius.com/)\n",
      "4. Chunky Bracelets - Bershka (https://www.bershka.com/)\n",
      "5. Trendy Sneakers - Adidas Originals (https://www.adidas.es/originals)\n",
      "\n",
      "Remember, the key to a great outfit is confidence and showing off your personal style. Have fun and enjoy the music at the Keinemusik Festival!\u001b[0m\n",
      "\u001b[33;1m\u001b[1;3m\n",
      "\n",
      "This outfit is unique and great for a Keinemusik Festival because it combines trendy and edgy pieces that allow you to express your individual style. The bold graphic tee and distressed denim shorts give off a cool and relaxed vibe, while the statement belt and accessories add a pop of personality to the outfit.\n",
      "\n",
      "By choosing items from popular Spanish fashion brands like Pull&Bear, Zara, Stradivarius, Bershka, and Adidas Originals, you can create a stylish and on-trend look that will make you stand out at the festival. Plus, the versatile pieces like the jacket or flannel can easily be layered or taken off depending on the weather, ensuring comfort throughout the day and into the night.\n",
      "\n",
      "Overall, this outfit is a great choice for an Original Man at a Keinemusik Festival because it allows you to showcase your unique style and have fun while enjoying the music and atmosphere of the event.\u001b[0m\n",
      "\n",
      "\u001b[1m> Finished chain.\u001b[0m\n"
     ]
    },
    {
     "data": {
      "text/plain": [
       "'\\n\\nThis outfit is unique and great for a Keinemusik Festival because it combines trendy and edgy pieces that allow you to express your individual style. The bold graphic tee and distressed denim shorts give off a cool and relaxed vibe, while the statement belt and accessories add a pop of personality to the outfit.\\n\\nBy choosing items from popular Spanish fashion brands like Pull&Bear, Zara, Stradivarius, Bershka, and Adidas Originals, you can create a stylish and on-trend look that will make you stand out at the festival. Plus, the versatile pieces like the jacket or flannel can easily be layered or taken off depending on the weather, ensuring comfort throughout the day and into the night.\\n\\nOverall, this outfit is a great choice for an Original Man at a Keinemusik Festival because it allows you to showcase your unique style and have fun while enjoying the music and atmosphere of the event.'"
      ]
     },
     "execution_count": 30,
     "metadata": {},
     "output_type": "execute_result"
    }
   ],
   "source": [
    "product = 'Original Man outfit for a Keinemusik Festival'\n",
    "\n",
    "llm = ChatOpenAI(temperature=1.2)\n",
    "\n",
    "# prompt template 1\n",
    "first_prompt = ChatPromptTemplate.from_template(\n",
    "    \"Imagine you are an influencer. Please provide a advice on the clothing for: {product}. Include different combinations, as well as links to where we can buy each piece of clothing in Spain.\"\n",
    ")\n",
    "\n",
    "# Chain 1\n",
    "chain_one = LLMChain(llm=llm, prompt=first_prompt)\n",
    "\n",
    "\n",
    "# prompt template 2\n",
    "second_prompt = ChatPromptTemplate.from_template(\n",
    "    \"Based on the options you just provided, justify why this is unique and a great {product}.\"\n",
    ")\n",
    "# chain 2\n",
    "chain_two = LLMChain(llm=llm, prompt=second_prompt)\n",
    "\n",
    "overall_simple_chain = SimpleSequentialChain(chains=[chain_one, chain_two],\n",
    "                                             verbose=True\n",
    "                                            )\n",
    "\n",
    "overall_simple_chain.run(product)"
   ]
  },
  {
   "cell_type": "markdown",
   "id": "7b5ce18c",
   "metadata": {},
   "source": [
    "## SequentialChain"
   ]
  },
  {
   "cell_type": "code",
   "execution_count": 31,
   "id": "4c129ef6",
   "metadata": {},
   "outputs": [],
   "source": [
    "from langchain.chains import SequentialChain"
   ]
  },
  {
   "cell_type": "code",
   "execution_count": 74,
   "id": "016187ac",
   "metadata": {},
   "outputs": [],
   "source": [
    "llm = ChatOpenAI(temperature=0.9)\n",
    "\n",
    "\n",
    "first_prompt = ChatPromptTemplate.from_template(\n",
    "  \"Please, translate the following review: {review}. \"\n",
    ")\n",
    "\n",
    "chain_one = LLMChain(llm=llm, prompt=first_prompt, \n",
    "                     output_key=\"Initial Instruction\" #Give a name to your output\n",
    "                    )\n"
   ]
  },
  {
   "cell_type": "code",
   "execution_count": 75,
   "id": "0fb0730e",
   "metadata": {},
   "outputs": [],
   "source": [
    "second_prompt = ChatPromptTemplate.from_template(\n",
    "    \"Summarize the following review {review}. \"\n",
    ")\n",
    "\n",
    "chain_two = LLMChain(llm=llm, prompt=second_prompt, \n",
    "                     output_key=\"Summary\" #give a name to this output\n",
    "                    )\n"
   ]
  },
  {
   "cell_type": "code",
   "execution_count": 76,
   "id": "6accf92d",
   "metadata": {},
   "outputs": [],
   "source": [
    "# prompt template 3: translate to english or other language\n",
    "third_prompt = ChatPromptTemplate.from_template(\n",
    "    \"Translate it to English: {review}. \"\n",
    ")\n",
    "# chain 3: input= Review and output= language\n",
    "chain_three = LLMChain(llm=llm, prompt=third_prompt,\n",
    "                       output_key=\"Translation\"\n",
    "                      )\n"
   ]
  },
  {
   "cell_type": "code",
   "execution_count": 77,
   "id": "c7a46121",
   "metadata": {},
   "outputs": [],
   "source": [
    "\n",
    "# prompt template 4: follow up message that take as inputs the two previous prompts' variables\n",
    "fourth_prompt = ChatPromptTemplate.from_template(\n",
    "        \"Imagine you are the business owner from the product review you just translated. Ansewr the review in English, using the following information: {Initial Instruction}, {Summary}, and {Translation}. \"\n",
    ")\n",
    "chain_four = LLMChain(llm=llm, prompt=fourth_prompt,\n",
    "                      output_key=\"Review_follow-up_message\"\n",
    "                     )\n"
   ]
  },
  {
   "cell_type": "code",
   "execution_count": 78,
   "id": "89603117",
   "metadata": {},
   "outputs": [],
   "source": [
    "# overall_chain: input= Review \n",
    "# and output= English_Review,summary, followup_message\n",
    "overall_chain = SequentialChain(\n",
    "    chains=[chain_one, chain_two, chain_three, chain_four],\n",
    "    input_variables=[\"review\"],\n",
    "    output_variables=[\"Summary\", \"Translation\", \"Review_follow-up_message\"],\n",
    "    verbose=True\n",
    ")"
   ]
  },
  {
   "cell_type": "code",
   "execution_count": 79,
   "id": "51b04f45",
   "metadata": {},
   "outputs": [
    {
     "name": "stdout",
     "output_type": "stream",
     "text": [
      "\n",
      "\n",
      "\u001b[1m> Entering new SequentialChain chain...\u001b[0m\n",
      "\n",
      "\u001b[1m> Finished chain.\u001b[0m\n"
     ]
    },
    {
     "data": {
      "text/plain": [
       "{'review': \"Je trouve le goût médiocre. La mousse ne tient pas, c'est bizarre. J'achète les mêmes dans le commerce et le goût est bien meilleur...\\r\\nVieux lot ou contrefaçon !?\",\n",
       " 'Summary': \"Le reviewer trouve le goût médiocre et la mousse ne tient pas, ce qui est bizarre. Il a l'habitude d'acheter les mêmes produits dans le commerce et le goût est bien meilleur, donc il se demande s'il s'agit d'un vieux lot ou d'une contrefaçon.\",\n",
       " 'Translation': \"I find the taste mediocre. The foam doesn't last, it's strange. I buy the same ones in stores and the taste is much better... Old batch or counterfeit!?\",\n",
       " 'Review_follow-up_message': 'Dear valued customer,\\n\\nThank you for taking the time to share your feedback with us. We are sorry to hear that you found the taste of our product to be mediocre and that the foam did not hold up well. We take the quality of our products very seriously and would like to assure you that we do not sell counterfeit or old batches.\\n\\nPlease reach out to us directly with more information about your purchase, such as the expiration date and batch number, so that we can investigate this further. We want to ensure that you are satisfied with your purchase and will do everything we can to address your concerns.\\n\\nThank you for bringing this to our attention and we look forward to resolving this issue for you.\\n\\nSincerely,\\n[Your Name]\\n[Your Company Name]'}"
      ]
     },
     "execution_count": 79,
     "metadata": {},
     "output_type": "execute_result"
    }
   ],
   "source": [
    "review = df.Review[5]\n",
    "overall_chain(review)"
   ]
  },
  {
   "cell_type": "markdown",
   "id": "3187cf07-458a-4226-bec7-3dec7ee47af2",
   "metadata": {},
   "source": [
    "**Repeat the above twice for different products or reviews**"
   ]
  },
  {
   "cell_type": "code",
   "execution_count": 83,
   "id": "85a3eb47",
   "metadata": {},
   "outputs": [
    {
     "name": "stdout",
     "output_type": "stream",
     "text": [
      "\n",
      "\n",
      "\u001b[1m> Entering new SequentialChain chain...\u001b[0m\n",
      "\n",
      "\u001b[1m> Finished chain.\u001b[0m\n"
     ]
    },
    {
     "data": {
      "text/plain": [
       "{'review': 'Está lu bonita calienta muy rápido, es muy funcional, solo falta ver cuánto dura, solo llevo 3 días en funcionamiento.',\n",
       " 'Summary': 'La revisión describe que la estufa es bonita, se calienta rápidamente y es funcional. El único aspecto a evaluar es su durabilidad, ya que el usuario solo la ha estado utilizando por tres días.',\n",
       " 'Translation': \"It's a beautiful heater that heats up very quickly, it's very functional, just need to see how long it lasts, I've only been using it for 3 days.\",\n",
       " 'Review_follow-up_message': \"Thank you for your review! We're glad to hear that you find our heater beautiful, efficient, and functional. We understand your concern about its durability, and we strive to provide high-quality products that last a long time. We hope that you continue to enjoy using our heater for many days to come. Thank you for choosing our product!\"}"
      ]
     },
     "execution_count": 83,
     "metadata": {},
     "output_type": "execute_result"
    }
   ],
   "source": [
    "llm = ChatOpenAI(temperature=1.3)\n",
    "\n",
    "\n",
    "first_prompt = ChatPromptTemplate.from_template(\n",
    "  \"Please, translate the following review: {review}. \"\n",
    ")\n",
    "\n",
    "chain_one = LLMChain(llm=llm, prompt=first_prompt, \n",
    "                     output_key=\"Initial Instruction\" #Give a name to your output\n",
    "                    )\n",
    "\n",
    "second_prompt = ChatPromptTemplate.from_template(\n",
    "    \"Summarize the following review {review}. \"\n",
    ")\n",
    "\n",
    "chain_two = LLMChain(llm=llm, prompt=second_prompt, \n",
    "                     output_key=\"Summary\" #give a name to this output\n",
    "                    )\n",
    "\n",
    "# prompt template 3: translate to english or other language\n",
    "third_prompt = ChatPromptTemplate.from_template(\n",
    "    \"Translate it to English: {review}. \"\n",
    ")\n",
    "# chain 3: input= Review and output= language\n",
    "chain_three = LLMChain(llm=llm, prompt=third_prompt,\n",
    "                       output_key=\"Translation\"\n",
    "                      )\n",
    "\n",
    "# prompt template 4: follow up message that take as inputs the two previous prompts' variables\n",
    "fourth_prompt = ChatPromptTemplate.from_template(\n",
    "        \"Imagine you are the business owner from the product review you just translated. Ansewr the review in English, using the following information: {Initial Instruction}, {Summary}, and {Translation}. \"\n",
    ")\n",
    "chain_four = LLMChain(llm=llm, prompt=fourth_prompt,\n",
    "                      output_key=\"Review_follow-up_message\"\n",
    "                     )\n",
    "\n",
    "# overall_chain: input= Review \n",
    "# and output= English_Review,summary, followup_message\n",
    "overall_chain = SequentialChain(\n",
    "    chains=[chain_one, chain_two, chain_three, chain_four],\n",
    "    input_variables=[\"review\"],\n",
    "    output_variables=[\"Summary\", \"Translation\", \"Review_follow-up_message\"],\n",
    "    verbose=True\n",
    ")\n",
    "\n",
    "review = df.Review[6]\n",
    "overall_chain(review)"
   ]
  },
  {
   "cell_type": "code",
   "execution_count": 84,
   "id": "2901adde",
   "metadata": {},
   "outputs": [
    {
     "name": "stdout",
     "output_type": "stream",
     "text": [
      "\n",
      "\n",
      "\u001b[1m> Entering new SequentialChain chain...\u001b[0m\n",
      "\n",
      "\u001b[1m> Finished chain.\u001b[0m\n"
     ]
    },
    {
     "data": {
      "text/plain": [
       "{'review': \"This mattress had a small hole in the top of it (took forever to find where it was), and the patches that they provide did not work, maybe because it's the top of the mattress where it's kind of like fabric and a patch won't stick. Maybe I got unlucky with a defective mattress, but where's quality assurance for this company? That flat out should not happen. Emphasis on flat. Cause that's what the mattress was. Seriously horrible experience, ruined my friend's stay with me. Then they make you ship it back instead of just providing a refund, which is also super annoying to pack up an air mattress and take it to the UPS store. This company is the worst, and this mattress is the worst.\",\n",
       " 'Summary': 'The reviewer had a negative experience with the mattress, encountering a hole that was difficult to repair with the provided patches. They criticize the lack of quality assurance from the company and describe the mattress as flat and unsatisfactory. The return process was inconvenient and overall, they highly discourage purchasing from this company.',\n",
       " 'Translation': 'Este colchón tenía un pequeño agujero en la parte superior (me tomó mucho tiempo encontrar dónde estaba), y los parches que proporcionan no funcionaron, tal vez porque es la parte superior del colchón donde es como tela y un parche no se adhiere. Tal vez tuve mala suerte con un colchón defectuoso, pero ¿dónde está el control de calidad de esta empresa? Eso simplemente no debería suceder. Énfasis en plano. Porque así estaba el colchón. Una experiencia realmente horrible, arruinó la estadía de mi amigo conmigo. Luego te hacen enviarlo de vuelta en lugar de simplemente darte un reembolso, lo cual también es súper molesto embalar un colchón de aire y llevarlo a la tienda de UPS. Esta empresa es la peor, y este colchón es el peor.',\n",
       " 'Review_follow-up_message': 'Estimado cliente,\\n\\nLamentamos sinceramente escuchar sobre su experiencia insatisfactoria con nuestro colchón. Entendemos lo frustrante que puede ser recibir un producto defectuoso, y nos disculpamos por cualquier inconveniente que esto haya causado.\\n\\nNos tomamos muy en serio la calidad de nuestros productos y nos aseguraremos de investigar a fondo lo sucedido en este caso para prevenir situaciones similares en el futuro. Apreciamos sus comentarios y su honestidad al respecto.\\n\\nEn cuanto al proceso de devolución, lamentamos si ha resultado inconveniente para usted. Identificaremos cómo podemos mejorar nuestras políticas de devolución para hacerlas más eficientes y menos molestas para nuestros clientes.\\n\\nNos gustaría ofrecerle un reembolso total por su compra y cubrir cualquier gasto adicional que haya incurrido en el proceso de devolución. Por favor, póngase en contacto con nuestro equipo de servicio al cliente para coordinar esto.\\n\\nUna vez más, le pedimos disculpas por su experiencia negativa y agradecemos su retroalimentación. Esperamos poder compensar de alguna manera este inconveniente y recuperar su confianza en nuestros productos y en nuestra empresa.\\n\\nAtentamente,\\n\\n[Su nombre] \\nPropietario de la empresa'}"
      ]
     },
     "execution_count": 84,
     "metadata": {},
     "output_type": "execute_result"
    }
   ],
   "source": [
    "llm = ChatOpenAI(temperature=1.1)\n",
    "\n",
    "\n",
    "first_prompt = ChatPromptTemplate.from_template(\n",
    "  \"Please, translate the following review: {review}. \"\n",
    ")\n",
    "\n",
    "chain_one = LLMChain(llm=llm, prompt=first_prompt, \n",
    "                     output_key=\"Initial Instruction\" #Give a name to your output\n",
    "                    )\n",
    "\n",
    "second_prompt = ChatPromptTemplate.from_template(\n",
    "    \"Summarize the following review {review}. \"\n",
    ")\n",
    "\n",
    "chain_two = LLMChain(llm=llm, prompt=second_prompt, \n",
    "                     output_key=\"Summary\" #give a name to this output\n",
    "                    )\n",
    "\n",
    "# prompt template 3: translate to english or other language\n",
    "third_prompt = ChatPromptTemplate.from_template(\n",
    "    \"Translate it to Spanish: {review}. \"\n",
    ")\n",
    "# chain 3: input= Review and output= language\n",
    "chain_three = LLMChain(llm=llm, prompt=third_prompt,\n",
    "                       output_key=\"Translation\"\n",
    "                      )\n",
    "\n",
    "# prompt template 4: follow up message that take as inputs the two previous prompts' variables\n",
    "fourth_prompt = ChatPromptTemplate.from_template(\n",
    "        \"Imagine you are the business owner from the product review you just translated. Answer the review in Spanish, using the following information: {Initial Instruction}, {Summary}, and {Translation}. \"\n",
    ")\n",
    "chain_four = LLMChain(llm=llm, prompt=fourth_prompt,\n",
    "                      output_key=\"Review_follow-up_message\"\n",
    "                     )\n",
    "\n",
    "# overall_chain: input= Review \n",
    "# and output= English_Review,summary, followup_message\n",
    "overall_chain = SequentialChain(\n",
    "    chains=[chain_one, chain_two, chain_three, chain_four],\n",
    "    input_variables=[\"review\"],\n",
    "    output_variables=[\"Summary\", \"Translation\", \"Review_follow-up_message\"],\n",
    "    verbose=True\n",
    ")\n",
    "\n",
    "review = df.Review[2]\n",
    "overall_chain(review)"
   ]
  },
  {
   "cell_type": "markdown",
   "id": "3041ea4c",
   "metadata": {},
   "source": [
    "## Router Chain"
   ]
  },
  {
   "cell_type": "code",
   "execution_count": 86,
   "id": "ade83f4f",
   "metadata": {},
   "outputs": [],
   "source": [
    "physics_template = \"\"\"You are a very smart physics professor. \\\n",
    "You are great at answering questions about physics in a concise\\\n",
    "and easy to understand manner. \\\n",
    "When you don't know the answer to a question you admit\\\n",
    "that you don't know.\n",
    "\n",
    "Here is a question:\n",
    "{input}\"\"\"\n",
    "\n",
    "\n",
    "math_template = \"\"\"You are a very good mathematician. \\\n",
    "You are great at answering math questions. \\\n",
    "You are so good because you are able to break down \\\n",
    "hard problems into their component parts, \n",
    "answer the component parts, and then put them together\\\n",
    "to answer the broader question.\n",
    "\n",
    "Here is a question:\n",
    "{input}\"\"\"\n",
    "\n",
    "history_template = \"\"\"You are a very good historian. \\\n",
    "You have an excellent knowledge of and understanding of people,\\\n",
    "events and contexts from a range of historical periods. \\\n",
    "You have the ability to think, reflect, debate, discuss and \\\n",
    "evaluate the past. You have a respect for historical evidence\\\n",
    "and the ability to make use of it to support your explanations \\\n",
    "and judgements.\n",
    "\n",
    "Here is a question:\n",
    "{input}\"\"\"\n",
    "\n",
    "\n",
    "computerscience_template = \"\"\" You are a successful computer scientist.\\\n",
    "You have a passion for creativity, collaboration,\\\n",
    "forward-thinking, confidence, strong problem-solving capabilities,\\\n",
    "understanding of theories and algorithms, and excellent communication \\\n",
    "skills. You are great at answering coding questions. \\\n",
    "You are so good because you know how to solve a problem by \\\n",
    "describing the solution in imperative steps \\\n",
    "that a machine can easily interpret and you know how to \\\n",
    "choose a solution that has a good balance between \\\n",
    "time complexity and space complexity. \n",
    "\n",
    "Here is a question:\n",
    "{input}\"\"\"\n",
    "\n",
    "biology_template = \"\"\"You are an excellent biologist. \\\n",
    "You have a deep understanding of living organisms, \\\n",
    "from the molecular and cellular level to entire ecosystems. \\\n",
    "You are skilled at observing patterns in nature, analyzing biological data, \\\n",
    "and explaining complex processes like evolution, genetics, physiology, and ecology. \\\n",
    "You can clearly communicate how life functions and adapts, \\\n",
    "and you make connections between different biological concepts \\\n",
    "to answer challenging questions.\n",
    "\n",
    "Here is a question:\n",
    "{input}\"\"\""
   ]
  },
  {
   "cell_type": "code",
   "execution_count": 87,
   "id": "5f590e9f",
   "metadata": {},
   "outputs": [],
   "source": [
    "prompt_infos = [\n",
    "    {\n",
    "        \"name\": \"physics\", \n",
    "        \"description\": \"Good for answering questions about physics\", \n",
    "        \"prompt_template\": physics_template\n",
    "    },\n",
    "    {\n",
    "        \"name\": \"math\", \n",
    "        \"description\": \"Good for answering math questions\", \n",
    "        \"prompt_template\": math_template\n",
    "    },\n",
    "    {\n",
    "        \"name\": \"History\", \n",
    "        \"description\": \"Good for answering history questions\", \n",
    "        \"prompt_template\": history_template\n",
    "    },\n",
    "    {\n",
    "        \"name\": \"computer science\", \n",
    "        \"description\": \"Good for answering computer science questions\", \n",
    "        \"prompt_template\": computerscience_template\n",
    "    },\n",
    "    {\n",
    "        \"name\": \"biology\",\n",
    "        \"description\": \"Good for answering biology questions\",\n",
    "        \"prompt_template\": biology_template\n",
    "    }\n",
    "]"
   ]
  },
  {
   "cell_type": "code",
   "execution_count": 88,
   "id": "31b06fc8",
   "metadata": {},
   "outputs": [],
   "source": [
    "from langchain.chains.router import MultiPromptChain\n",
    "from langchain.chains.router.llm_router import LLMRouterChain,RouterOutputParser\n",
    "from langchain.prompts import PromptTemplate"
   ]
  },
  {
   "cell_type": "code",
   "execution_count": 89,
   "id": "f3f50bcc",
   "metadata": {},
   "outputs": [],
   "source": [
    "llm = ChatOpenAI(temperature=0)"
   ]
  },
  {
   "cell_type": "code",
   "execution_count": 90,
   "id": "8eefec24",
   "metadata": {},
   "outputs": [],
   "source": [
    "destination_chains = {}\n",
    "for p_info in prompt_infos:\n",
    "    name = p_info[\"name\"]\n",
    "    prompt_template = p_info[\"prompt_template\"]\n",
    "    prompt = ChatPromptTemplate.from_template(template=prompt_template)\n",
    "    chain = LLMChain(llm=llm, prompt=prompt)\n",
    "    destination_chains[name] = chain  \n",
    "    \n",
    "destinations = [f\"{p['name']}: {p['description']}\" for p in prompt_infos]\n",
    "destinations_str = \"\\n\".join(destinations)"
   ]
  },
  {
   "cell_type": "code",
   "execution_count": 91,
   "id": "9f98018a",
   "metadata": {},
   "outputs": [],
   "source": [
    "default_prompt = ChatPromptTemplate.from_template(\"{input}\")\n",
    "default_chain = LLMChain(llm=llm, prompt=default_prompt)"
   ]
  },
  {
   "cell_type": "code",
   "execution_count": 92,
   "id": "11b2e2ba",
   "metadata": {},
   "outputs": [],
   "source": [
    "MULTI_PROMPT_ROUTER_TEMPLATE = \"\"\"Given a raw text input to a \\\n",
    "language model select the model prompt best suited for the input. \\\n",
    "You will be given the names of the available prompts and a \\\n",
    "description of what the prompt is best suited for. \\\n",
    "You may also revise the original input if you think that revising\\\n",
    "it will ultimately lead to a better response from the language model.\n",
    "\n",
    "<< FORMATTING >>\n",
    "Return a markdown code snippet with a JSON object formatted to look like:\n",
    "```json\n",
    "{{{{\n",
    "    \"destination\": string \\ name of the prompt to use or \"DEFAULT\"\n",
    "    \"next_inputs\": string \\ a potentially modified version of the original input\n",
    "}}}}\n",
    "```\n",
    "\n",
    "REMEMBER: \"destination\" MUST be one of the candidate prompt \\\n",
    "names specified below OR it can be \"DEFAULT\" if the input is not\\\n",
    "well suited for any of the candidate prompts.\n",
    "REMEMBER: \"next_inputs\" can just be the original input \\\n",
    "if you don't think any modifications are needed.\n",
    "\n",
    "<< CANDIDATE PROMPTS >>\n",
    "{destinations}\n",
    "\n",
    "<< INPUT >>\n",
    "{{input}}\n",
    "\n",
    "<< OUTPUT (remember to include the ```json)>>\"\"\""
   ]
  },
  {
   "cell_type": "code",
   "execution_count": 93,
   "id": "1387109d",
   "metadata": {},
   "outputs": [],
   "source": [
    "router_template = MULTI_PROMPT_ROUTER_TEMPLATE.format(\n",
    "    destinations=destinations_str\n",
    ")\n",
    "router_prompt = PromptTemplate(\n",
    "    template=router_template,\n",
    "    input_variables=[\"input\"],\n",
    "    output_parser=RouterOutputParser(),\n",
    ")\n",
    "\n",
    "router_chain = LLMRouterChain.from_llm(llm, router_prompt)"
   ]
  },
  {
   "cell_type": "code",
   "execution_count": 94,
   "id": "2fb7d560",
   "metadata": {},
   "outputs": [
    {
     "name": "stderr",
     "output_type": "stream",
     "text": [
      "C:\\Users\\jefit\\AppData\\Local\\Temp\\ipykernel_1548\\3038952769.py:1: LangChainDeprecationWarning: Please see migration guide here for recommended implementation: https://python.langchain.com/docs/versions/migrating_chains/multi_prompt_chain/\n",
      "  chain = MultiPromptChain(router_chain=router_chain,\n"
     ]
    }
   ],
   "source": [
    "chain = MultiPromptChain(router_chain=router_chain, \n",
    "                         destination_chains=destination_chains, \n",
    "                         default_chain=default_chain, verbose=True\n",
    "                        )"
   ]
  },
  {
   "cell_type": "code",
   "execution_count": 95,
   "id": "d86b2131",
   "metadata": {},
   "outputs": [
    {
     "name": "stdout",
     "output_type": "stream",
     "text": [
      "\n",
      "\n",
      "\u001b[1m> Entering new MultiPromptChain chain...\u001b[0m\n",
      "physics: {'input': 'What is black body radiation?'}\n",
      "\u001b[1m> Finished chain.\u001b[0m\n"
     ]
    },
    {
     "data": {
      "text/plain": [
       "\"Black body radiation is the electromagnetic radiation emitted by a perfect absorber and emitter of radiation, known as a black body. A black body absorbs all radiation that falls on it and emits radiation across the entire electromagnetic spectrum. The spectrum of black body radiation is continuous and depends only on the temperature of the black body. This phenomenon is described by Planck's law, which states that the intensity of radiation emitted by a black body at a given wavelength is proportional to the temperature of the body and the wavelength raised to the fifth power.\""
      ]
     },
     "execution_count": 95,
     "metadata": {},
     "output_type": "execute_result"
    }
   ],
   "source": [
    "chain.run(\"What is black body radiation?\")"
   ]
  },
  {
   "cell_type": "code",
   "execution_count": 96,
   "id": "3b717379",
   "metadata": {},
   "outputs": [
    {
     "name": "stdout",
     "output_type": "stream",
     "text": [
      "\n",
      "\n",
      "\u001b[1m> Entering new MultiPromptChain chain...\u001b[0m\n",
      "math: {'input': 'what is 2 + 2'}\n",
      "\u001b[1m> Finished chain.\u001b[0m\n"
     ]
    },
    {
     "data": {
      "text/plain": [
       "'The answer to 2 + 2 is 4.'"
      ]
     },
     "execution_count": 96,
     "metadata": {},
     "output_type": "execute_result"
    }
   ],
   "source": [
    "chain.run(\"what is 2 + 2\")"
   ]
  },
  {
   "cell_type": "code",
   "execution_count": 97,
   "id": "29e5be01",
   "metadata": {},
   "outputs": [
    {
     "name": "stdout",
     "output_type": "stream",
     "text": [
      "\n",
      "\n",
      "\u001b[1m> Entering new MultiPromptChain chain...\u001b[0m\n",
      "biology: {'input': 'Why does every cell in our body contain DNA?'}\n",
      "\u001b[1m> Finished chain.\u001b[0m\n"
     ]
    },
    {
     "data": {
      "text/plain": [
       "'Every cell in our body contains DNA because DNA is the genetic material that carries the instructions for the development, functioning, and reproduction of all living organisms. DNA contains the information needed to build and maintain an organism, including the proteins that make up our cells and tissues. \\n\\nHaving DNA in every cell ensures that each cell has the necessary genetic information to carry out its specific functions and to replicate itself accurately during cell division. This genetic information is crucial for maintaining the integrity and stability of our cells and ultimately our entire body. \\n\\nAdditionally, DNA is constantly being replicated and repaired in our cells to ensure that genetic information is passed on accurately to the next generation of cells. This process is essential for the growth, development, and overall health of our bodies. \\n\\nIn summary, every cell in our body contains DNA because it is essential for the proper functioning and maintenance of all living organisms.'"
      ]
     },
     "execution_count": 97,
     "metadata": {},
     "output_type": "execute_result"
    }
   ],
   "source": [
    "chain.run(\"Why does every cell in our body contain DNA?\")"
   ]
  },
  {
   "cell_type": "markdown",
   "id": "09e0c60b-7ae0-453e-9467-142d8dafee6e",
   "metadata": {},
   "source": [
    "**Repeat the above at least once for different inputs and chains executions - Be creative!**"
   ]
  },
  {
   "cell_type": "code",
   "execution_count": 99,
   "id": "780c7e47",
   "metadata": {},
   "outputs": [
    {
     "name": "stdout",
     "output_type": "stream",
     "text": [
      "\n",
      "\n",
      "\u001b[1m> Entering new MultiPromptChain chain...\u001b[0m\n",
      "History: {'input': 'Which day did the US stock exchange drop the most?'}\n",
      "\u001b[1m> Finished chain.\u001b[0m\n"
     ]
    },
    {
     "data": {
      "text/plain": [
       "'The largest single-day drop in the history of the US stock market occurred on October 19, 1987, also known as \"Black Monday.\" On that day, the Dow Jones Industrial Average plummeted by 22.6%, causing widespread panic and significant financial losses for investors.'"
      ]
     },
     "execution_count": 99,
     "metadata": {},
     "output_type": "execute_result"
    }
   ],
   "source": [
    "chain.run(\"Which has been the day where the US stock exchange has dropped the most?\")"
   ]
  },
  {
   "cell_type": "code",
   "execution_count": 100,
   "id": "927c6bcc",
   "metadata": {},
   "outputs": [
    {
     "name": "stdout",
     "output_type": "stream",
     "text": [
      "\n",
      "\n",
      "\u001b[1m> Entering new MultiPromptChain chain...\u001b[0m\n",
      "computer science: {'input': 'Can you explain quantum computing?'}\n",
      "\u001b[1m> Finished chain.\u001b[0m\n"
     ]
    },
    {
     "data": {
      "text/plain": [
       "'Quantum computing is a cutting-edge field in computer science that utilizes the principles of quantum mechanics to perform computations. Unlike classical computers, which use bits to represent information as either 0 or 1, quantum computers use quantum bits, or qubits, which can exist in a superposition of states, allowing them to represent both 0 and 1 simultaneously.\\n\\nThis ability to exist in multiple states at once enables quantum computers to perform calculations much faster than classical computers for certain types of problems. Quantum computers can also take advantage of entanglement, a phenomenon where the state of one qubit is dependent on the state of another, to further increase their computational power.\\n\\nHowever, quantum computing is still in its early stages and faces many challenges, such as maintaining the delicate quantum states of qubits and minimizing errors in calculations. Researchers are actively working to overcome these challenges and unlock the full potential of quantum computing for solving complex problems in fields such as cryptography, optimization, and machine learning.'"
      ]
     },
     "execution_count": 100,
     "metadata": {},
     "output_type": "execute_result"
    }
   ],
   "source": [
    "chain.run(\"Can you explain what is quantum computing?\")"
   ]
  },
  {
   "cell_type": "code",
   "execution_count": 101,
   "id": "c68ad7d4",
   "metadata": {},
   "outputs": [
    {
     "name": "stdout",
     "output_type": "stream",
     "text": [
      "\n",
      "\n",
      "\u001b[1m> Entering new MultiPromptChain chain...\u001b[0m\n",
      "computer science: {'input': 'Can you recommend me quantum computing stocks to invest in?'}\n",
      "\u001b[1m> Finished chain.\u001b[0m\n"
     ]
    },
    {
     "data": {
      "text/plain": [
       "\"As a computer scientist, I can provide some recommendations for quantum computing stocks to consider for investment. Quantum computing is an emerging technology with the potential to revolutionize various industries, so investing in companies at the forefront of this technology could be a wise decision. Some of the top quantum computing stocks to consider include:\\n\\n1. IBM (International Business Machines Corporation): IBM is a leader in quantum computing research and development, with its IBM Q Network offering quantum computing services to businesses and researchers.\\n\\n2. Google (Alphabet Inc.): Google has made significant advancements in quantum computing with its Quantum AI lab and the development of the Bristlecone quantum processor.\\n\\n3. Microsoft Corporation: Microsoft is investing heavily in quantum computing research through its Quantum Development Kit and Azure Quantum platform.\\n\\n4. D-Wave Systems Inc.: D-Wave is a pioneer in quantum computing, known for its quantum annealing technology and quantum computers.\\n\\n5. Rigetti Computing: Rigetti is a startup focused on developing quantum computing hardware and software solutions for businesses and researchers.\\n\\nIt's important to note that investing in emerging technologies like quantum computing carries inherent risks, so it's advisable to conduct thorough research and consult with a financial advisor before making any investment decisions.\""
      ]
     },
     "execution_count": 101,
     "metadata": {},
     "output_type": "execute_result"
    }
   ],
   "source": [
    "chain.run(\"Can you recommend me quantum copmuting stocks to invest in?\")"
   ]
  },
  {
   "cell_type": "code",
   "execution_count": 102,
   "id": "4e93c473",
   "metadata": {},
   "outputs": [
    {
     "name": "stdout",
     "output_type": "stream",
     "text": [
      "\n",
      "\n",
      "\u001b[1m> Entering new MultiPromptChain chain...\u001b[0m\n",
      "None: {'input': 'Can you give me advice about love?'}\n",
      "\u001b[1m> Finished chain.\u001b[0m\n"
     ]
    },
    {
     "data": {
      "text/plain": [
       "\"Sure! Here are some tips for navigating love:\\n\\n1. Communication is key: Make sure to communicate openly and honestly with your partner about your feelings, needs, and concerns.\\n\\n2. Trust and respect: Trust and respect are essential components of a healthy relationship. Make sure to trust your partner and treat them with respect.\\n\\n3. Compromise: Relationships require compromise from both partners. Be willing to listen to your partner's perspective and find solutions that work for both of you.\\n\\n4. Take care of yourself: It's important to prioritize self-care and maintain your own well-being in a relationship. Make sure to set boundaries and take time for yourself when needed.\\n\\n5. Be patient: Love takes time to grow and develop. Be patient with yourself and your partner as you navigate the ups and downs of a relationship.\\n\\n6. Seek support: Don't be afraid to seek support from friends, family, or a therapist if you're struggling in your relationship. It's important to have a support system in place to help you navigate challenges.\\n\\nRemember, every relationship is unique, so it's important to find what works best for you and your partner.\""
      ]
     },
     "execution_count": 102,
     "metadata": {},
     "output_type": "execute_result"
    }
   ],
   "source": [
    "chain.run(\"Can you give me advice about love?\")"
   ]
  }
 ],
 "metadata": {
  "kernelspec": {
   "display_name": "Python 3",
   "language": "python",
   "name": "python3"
  },
  "language_info": {
   "codemirror_mode": {
    "name": "ipython",
    "version": 3
   },
   "file_extension": ".py",
   "mimetype": "text/x-python",
   "name": "python",
   "nbconvert_exporter": "python",
   "pygments_lexer": "ipython3",
   "version": "3.13.3"
  }
 },
 "nbformat": 4,
 "nbformat_minor": 5
}
